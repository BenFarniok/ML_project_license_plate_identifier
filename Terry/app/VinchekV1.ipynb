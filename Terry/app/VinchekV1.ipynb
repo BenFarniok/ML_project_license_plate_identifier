{
 "cells": [
  {
   "cell_type": "code",
   "execution_count": null,
   "metadata": {},
   "outputs": [],
   "source": [
    "import requests\n",
    "import pandas as pd"
   ]
  },
  {
   "cell_type": "code",
   "execution_count": 2,
   "metadata": {
    "tags": []
   },
   "outputs": [
    {
     "output_type": "stream",
     "name": "stdout",
     "text": "{\"plate\":\"225NNJ\",\"state\":\"MN\",\"specifications\":{\"vin\":\"1GNDT13S872238888\",\"year\":\"2007\",\"make\":\"Chevrolet\",\"model\":\"TrailBlazer\",\"trim\":\"LS1\",\"made_in\":\"United States\",\"engine\":\"4.2-L L-6 DOHC 24V\"}}\n"
    }
   ],
   "source": [
    "\n",
    "# url = \"https://us-license-plate-to-vin.p.rapidapi.com/licenseplate\"\n",
    "\n",
    "# querystring = {\"plate\":\"225NNJ\",\"state\":\"MN\"}\n",
    "\n",
    "# headers = {\n",
    "#     'x-rapidapi-host': \"us-license-plate-to-vin.p.rapidapi.com\",\n",
    "#     'x-rapidapi-key': \"60502a255cmsh1ceceb99f5c79a3p1963a9jsn231eb1b4b9a9\"\n",
    "#     }\n",
    "\n",
    "# response = requests.request(\"GET\", url, headers=headers, params=querystring)\n",
    "\n",
    "# print(response.text)"
   ]
  },
  {
   "cell_type": "code",
   "execution_count": 14,
   "metadata": {
    "tags": []
   },
   "outputs": [
    {
     "output_type": "stream",
     "name": "stdout",
     "text": "Chevrolet\nTrailBlazer\n2007\n1GNDT13S872238888\n225NNJ\nMN\n"
    }
   ],
   "source": [
    "plate_data_df = pd.DataFrame(response.json())\n",
    "plate_data_dict = plate_data_df.to_dict()\n",
    "\n",
    "make = plate_data_dict['specifications']['make']\n",
    "model = plate_data_dict['specifications']['model']\n",
    "year = plate_data_dict['specifications']['year']\n",
    "vin = plate_data_dict['specifications']['vin']\n",
    "num = plate_data_dict['plate']['make']\n",
    "state = plate_data_dict['state']['make']\n",
    "\n",
    "print(make)\n",
    "print(model)\n",
    "print(year)\n",
    "print(vin)\n",
    "print(num)\n",
    "print(state)\n"
   ]
  },
  {
   "cell_type": "code",
   "execution_count": null,
   "metadata": {},
   "outputs": [],
   "source": []
  }
 ],
 "metadata": {
  "language_info": {
   "codemirror_mode": {
    "name": "ipython",
    "version": 3
   },
   "file_extension": ".py",
   "mimetype": "text/x-python",
   "name": "python",
   "nbconvert_exporter": "python",
   "pygments_lexer": "ipython3",
   "version": "3.6.10-final"
  },
  "orig_nbformat": 2,
  "kernelspec": {
   "name": "python361064bitpythondatacondaab47c43dfe824d4eb95e9e8f15b48370",
   "display_name": "Python 3.6.10 64-bit ('PythonData': conda)"
  }
 },
 "nbformat": 4,
 "nbformat_minor": 2
}